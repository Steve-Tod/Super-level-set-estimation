{
 "cells": [
  {
   "cell_type": "code",
   "execution_count": 1,
   "metadata": {
    "ExecuteTime": {
     "end_time": "2019-02-04T02:36:49.461392Z",
     "start_time": "2019-02-04T02:36:48.657609Z"
    },
    "collapsed": true
   },
   "outputs": [],
   "source": [
    "import numpy as np\n",
    "import random, math, copy\n",
    "import matplotlib.pyplot as plt\n",
    "from solver import p_prob_var_solver\n",
    "from tester import tester\n",
    "from utils import sinusoid, zero_mean, squared_exponential_kernel\n",
    "%matplotlib inline"
   ]
  },
  {
   "cell_type": "code",
   "execution_count": 2,
   "metadata": {
    "ExecuteTime": {
     "end_time": "2019-02-04T02:36:49.516935Z",
     "start_time": "2019-02-04T02:36:49.500873Z"
    },
    "collapsed": true
   },
   "outputs": [],
   "source": [
    "x, y = np.meshgrid(np.linspace(0, 1, 31), np.linspace(0, 2, 61))\n",
    "x, y = np.reshape(x, (-1, 1)), np.reshape(y, (-1, 1))\n",
    "sample_space = list(np.hstack((x, y)))\n",
    "k = squared_exponential_kernel(math.exp(1), math.exp(-1.5))"
   ]
  },
  {
   "cell_type": "code",
   "execution_count": null,
   "metadata": {
    "ExecuteTime": {
     "end_time": "2019-02-04T01:36:17.812578Z",
     "start_time": "2019-02-04T01:36:17.807383Z"
    },
    "collapsed": true
   },
   "outputs": [],
   "source": [
    "beta = [0.2 * i for i in range(6)]"
   ]
  },
  {
   "cell_type": "code",
   "execution_count": null,
   "metadata": {
    "ExecuteTime": {
     "end_time": "2019-02-04T01:36:18.762122Z",
     "start_time": "2019-02-04T01:36:18.757642Z"
    },
    "collapsed": true
   },
   "outputs": [],
   "source": [
    "tester_beta = tester(sample_num=50, iter_num=5)"
   ]
  },
  {
   "cell_type": "code",
   "execution_count": null,
   "metadata": {
    "ExecuteTime": {
     "end_time": "2019-02-04T01:36:19.673007Z",
     "start_time": "2019-02-04T01:36:19.632710Z"
    },
    "collapsed": true
   },
   "outputs": [],
   "source": [
    "solver = []\n",
    "for i in range(len(beta)):\n",
    "    solver.append(\n",
    "        p_prob_var_solver(\n",
    "            sample_space=sample_space,\n",
    "            threshold=1,\n",
    "            sigma=math.exp(-1),\n",
    "            function=sinusoid,\n",
    "            kernel=k,\n",
    "            mean=zero_mean,\n",
    "            epsilon=1e-12,\n",
    "            beta=beta[i],\n",
    "            dropout=0.0))\n",
    "labels = ['beta = %.1f' % x for x in beta]\n",
    "colors = ['r', 'g', 'b', 'c', 'm', 'y']"
   ]
  },
  {
   "cell_type": "code",
   "execution_count": null,
   "metadata": {
    "ExecuteTime": {
     "end_time": "2019-02-04T02:09:26.249856Z",
     "start_time": "2019-02-04T01:36:20.556655Z"
    },
    "collapsed": true
   },
   "outputs": [],
   "source": [
    "res = []\n",
    "for i in range(len(beta)):\n",
    "    tester_beta.clear()\n",
    "    tester_beta.run(solver[i])\n",
    "    res.append(tester_beta.get_error_bar_param())"
   ]
  },
  {
   "cell_type": "code",
   "execution_count": null,
   "metadata": {
    "ExecuteTime": {
     "end_time": "2019-02-04T02:09:28.228945Z",
     "start_time": "2019-02-04T02:09:27.242254Z"
    },
    "collapsed": true
   },
   "outputs": [],
   "source": [
    "plt.figure()\n",
    "for i, r in enumerate(res):\n",
    "    x, t, err = r\n",
    "    plt.errorbar(x, t, err, label=labels[i], color=colors[i], capsize=3)\n",
    "    plt.legend()\n",
    "plt.xlabel('sample number')\n",
    "plt.ylabel('F1 score')\n",
    "plt.savefig('beta_f1.png', dpi=600)"
   ]
  },
  {
   "cell_type": "code",
   "execution_count": null,
   "metadata": {
    "ExecuteTime": {
     "end_time": "2019-02-04T02:23:19.648874Z",
     "start_time": "2019-02-04T02:23:15.534942Z"
    },
    "collapsed": true
   },
   "outputs": [],
   "source": [
    "plt.figure(figsize=(15, 10))\n",
    "for i in range(len(beta)):\n",
    "    plt.subplot(2, 3, i + 1)    \n",
    "    # plot contour\n",
    "    X,Y = np.meshgrid(np.linspace(0, 1, 31), np.linspace(0, 2, 61))\n",
    "    Z = np.vectorize(math.sin)(10*X) + np.vectorize(math.cos)(4*Y) - np.vectorize(math.cos)(3*X*Y)\n",
    "    contour = plt.contour(X,Y,Z,[1],colors='k')\n",
    "    x = [p[0] for p in solver[i].x_hist]\n",
    "    y = [p[1] for p in solver[i].x_hist]\n",
    "    plt.scatter(x, y)\n",
    "    plt.title(labels[i])\n",
    "plt.tight_layout()\n",
    "plt.savefig('beta_location.png', dpi=600)"
   ]
  },
  {
   "cell_type": "markdown",
   "metadata": {},
   "source": [
    "---"
   ]
  },
  {
   "cell_type": "code",
   "execution_count": 16,
   "metadata": {
    "ExecuteTime": {
     "end_time": "2019-02-04T06:29:03.602131Z",
     "start_time": "2019-02-04T06:29:03.560983Z"
    },
    "collapsed": true
   },
   "outputs": [],
   "source": [
    "beta = [0.2 * i for i in range(3)]\n",
    "tester_beta = tester(sample_num=100, iter_num=5, hist=False)\n",
    "solver = []\n",
    "for i in range(len(beta)):\n",
    "    solver.append(\n",
    "        p_prob_var_solver(\n",
    "            sample_space=sample_space,\n",
    "            threshold=1,\n",
    "            sigma=math.exp(-1),\n",
    "            function=sinusoid,\n",
    "            kernel=k,\n",
    "            mean=zero_mean,\n",
    "            epsilon=1e-12,\n",
    "            beta=beta[i],\n",
    "            dropout=0.0))\n",
    "labels = ['beta = %.1f' % x for x in beta]\n",
    "colors = ['r', 'g', 'b', 'c', 'm', 'y']"
   ]
  },
  {
   "cell_type": "code",
   "execution_count": 17,
   "metadata": {
    "ExecuteTime": {
     "end_time": "2019-02-04T06:55:00.609864Z",
     "start_time": "2019-02-04T06:29:04.318156Z"
    },
    "collapsed": true
   },
   "outputs": [],
   "source": [
    "res = []\n",
    "for i in range(len(beta)):\n",
    "    tester_beta.clear()\n",
    "    tester_beta.run(solver[i])\n",
    "    res.append(tester_beta.F1_list)"
   ]
  },
  {
   "cell_type": "code",
   "execution_count": 19,
   "metadata": {
    "ExecuteTime": {
     "end_time": "2019-02-04T06:59:56.578230Z",
     "start_time": "2019-02-04T06:59:56.412602Z"
    }
   },
   "outputs": [
    {
     "data": {
      "text/plain": [
       "Text(0,0.5,'F1 score')"
      ]
     },
     "execution_count": 19,
     "metadata": {},
     "output_type": "execute_result"
    },
    {
     "data": {
      "image/png": "[encoded data removed]",
      "text/plain": [
       "<matplotlib.figure.Figure at 0x1a1bfd50f0>"
      ]
     },
     "metadata": {},
     "output_type": "display_data"
    }
   ],
   "source": [
    "res_array = np.array(res)\n",
    "t = np.mean(res_array, axis=1)\n",
    "err = np.std(res_array, axis=1)\n",
    "plt.errorbar(beta, t, err, label=labels[i], color=colors[i], capsize=3)\n",
    "plt.legend()\n",
    "plt.xlabel('beta')\n",
    "plt.ylabel('F1 score')"
   ]
  },
  {
   "cell_type": "code",
   "execution_count": 20,
   "metadata": {
    "ExecuteTime": {
     "end_time": "2019-02-04T07:00:32.986546Z",
     "start_time": "2019-02-04T07:00:31.189493Z"
    }
   },
   "outputs": [
    {
     "data": {
      "image/png": "[encoded data removed]",
      "text/plain": [
       "<matplotlib.figure.Figure at 0x1a1c0f6240>"
      ]
     },
     "metadata": {},
     "output_type": "display_data"
    }
   ],
   "source": [
    "labels = ['beta = %.1f' % x for x in beta]\n",
    "plt.figure(figsize=(15, 5))\n",
    "for i in range(len(beta)):\n",
    "    plt.subplot(2, 4, i + 1)    \n",
    "    # plot contour\n",
    "    X,Y = np.meshgrid(np.linspace(0, 1, 31), np.linspace(0, 2, 61))\n",
    "    Z = np.vectorize(math.sin)(10*X) + np.vectorize(math.cos)(4*Y) - np.vectorize(math.cos)(3*X*Y)\n",
    "    contour = plt.contour(X,Y,Z,[1],colors='k')\n",
    "    x = [p[0] for p in solver[i].x_hist]\n",
    "    y = [p[1] for p in solver[i].x_hist]\n",
    "    plt.scatter(x, y)\n",
    "    plt.title(labels[i])\n",
    "plt.tight_layout()\n",
    "plt.savefig('drop_location_100.png', dpi=600)"
   ]
  },
  {
   "cell_type": "code",
   "execution_count": 22,
   "metadata": {
    "ExecuteTime": {
     "end_time": "2019-02-04T07:04:42.740840Z",
     "start_time": "2019-02-04T07:04:39.688169Z"
    }
   },
   "outputs": [
    {
     "data": {
      "text/plain": [
       "[0, 1, 0, 2]"
      ]
     },
     "execution_count": 22,
     "metadata": {},
     "output_type": "execute_result"
    },
    {
     "data": {
      "image/png": "[encoded data removed]",
      "text/plain": [
       "<matplotlib.figure.Figure at 0x1a1c53d7f0>"
      ]
     },
     "metadata": {},
     "output_type": "display_data"
    }
   ],
   "source": [
    "super_level_set, left_set = solver[0].get_super_level_set(1.96)\n",
    "gt_set = solver[0].get_gt_set()\n",
    "plt.subplot(1, 2, 1)\n",
    "x = [p[0] for p in super_level_set]\n",
    "y = [p[1] for p in super_level_set]\n",
    "plt.scatter(x, y)\n",
    "plt.axis([0, 1, 0, 2])\n",
    "plt.subplot(1, 2, 2)\n",
    "x = [p[0] for p in gt_set]\n",
    "y = [p[1] for p in gt_set]\n",
    "plt.scatter(x, y)\n",
    "plt.axis([0, 1, 0, 2])"
   ]
  }
 ],
 "metadata": {
  "kernelspec": {
   "display_name": "Python 3",
   "language": "python",
   "name": "python3"
  },
  "language_info": {
   "codemirror_mode": {
    "name": "ipython",
    "version": 3
   },
   "file_extension": ".py",
   "mimetype": "text/x-python",
   "name": "python",
   "nbconvert_exporter": "python",
   "pygments_lexer": "ipython3",
   "version": "3.6.3"
  },
  "varInspector": {
   "cols": {
    "lenName": 16,
    "lenType": 16,
    "lenVar": 40
   },
   "kernels_config": {
    "python": {
     "delete_cmd_postfix": "",
     "delete_cmd_prefix": "del ",
     "library": "var_list.py",
     "varRefreshCmd": "print(var_dic_list())"
    },
    "r": {
     "delete_cmd_postfix": ") ",
     "delete_cmd_prefix": "rm(",
     "library": "var_list.r",
     "varRefreshCmd": "cat(var_dic_list()) "
    }
   },
   "types_to_exclude": [
    "module",
    "function",
    "builtin_function_or_method",
    "instance",
    "_Feature"
   ],
   "window_display": false
  }
 },
 "nbformat": 4,
 "nbformat_minor": 2
}
